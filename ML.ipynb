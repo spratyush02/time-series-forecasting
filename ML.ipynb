{
 "cells": [
  {
   "cell_type": "markdown",
   "metadata": {},
   "source": [
    "# Machine Learning Method: XGBoost Method (tree based)"
   ]
  },
  {
   "cell_type": "code",
   "execution_count": 271,
   "metadata": {},
   "outputs": [],
   "source": [
    "import pandas as pd\n",
    "import numpy as np\n",
    "from sklearn.metrics import mean_absolute_error, mean_squared_error\n",
    "from xgboost import XGBRegressor\n",
    "from matplotlib import pyplot"
   ]
  },
  {
   "cell_type": "markdown",
   "metadata": {},
   "source": [
    "Predicting for Coal.SA series only using Coal.SA feature only"
   ]
  },
  {
   "cell_type": "code",
   "execution_count": 272,
   "metadata": {},
   "outputs": [
    {
     "data": {
      "text/html": [
       "<div>\n",
       "<style scoped>\n",
       "    .dataframe tbody tr th:only-of-type {\n",
       "        vertical-align: middle;\n",
       "    }\n",
       "\n",
       "    .dataframe tbody tr th {\n",
       "        vertical-align: top;\n",
       "    }\n",
       "\n",
       "    .dataframe thead th {\n",
       "        text-align: right;\n",
       "    }\n",
       "</style>\n",
       "<table border=\"1\" class=\"dataframe\">\n",
       "  <thead>\n",
       "    <tr style=\"text-align: right;\">\n",
       "      <th></th>\n",
       "      <th>Coal.SA</th>\n",
       "    </tr>\n",
       "    <tr>\n",
       "      <th>Date</th>\n",
       "      <th></th>\n",
       "    </tr>\n",
       "  </thead>\n",
       "  <tbody>\n",
       "    <tr>\n",
       "      <th>1992-01-01</th>\n",
       "      <td>31.0</td>\n",
       "    </tr>\n",
       "    <tr>\n",
       "      <th>1992-01-02</th>\n",
       "      <td>31.0</td>\n",
       "    </tr>\n",
       "    <tr>\n",
       "      <th>1992-01-03</th>\n",
       "      <td>31.0</td>\n",
       "    </tr>\n",
       "    <tr>\n",
       "      <th>1992-01-04</th>\n",
       "      <td>31.0</td>\n",
       "    </tr>\n",
       "    <tr>\n",
       "      <th>1992-01-05</th>\n",
       "      <td>31.0</td>\n",
       "    </tr>\n",
       "  </tbody>\n",
       "</table>\n",
       "</div>"
      ],
      "text/plain": [
       "            Coal.SA\n",
       "Date               \n",
       "1992-01-01     31.0\n",
       "1992-01-02     31.0\n",
       "1992-01-03     31.0\n",
       "1992-01-04     31.0\n",
       "1992-01-05     31.0"
      ]
     },
     "execution_count": 272,
     "metadata": {},
     "output_type": "execute_result"
    }
   ],
   "source": [
    "df = pd.read_csv(\"coal-25082020.csv\")\n",
    "df.Date = pd.to_datetime(df.Date, dayfirst=True)\n",
    "df = df.sort_values(by='Date')\n",
    "df = df.set_index('Date')\n",
    "df=df.drop(['Copper','Gold','Silver','IronOre','Coal.Australia', 'CrudeOil','Fuel.Index','NaturalGas','Coal.Producer.Index','CrudeOil.Index','Metal.Index','NonFuel.Index','Commodity.Index','CLI','CCI','BCI'], axis=1)\n",
    "df.head()"
   ]
  },
  {
   "cell_type": "code",
   "execution_count": 288,
   "metadata": {},
   "outputs": [],
   "source": [
    "import warnings\n",
    "warnings.filterwarnings(\"ignore\")\n",
    "# transform a time series dataset into a supervised learning dataset\n",
    "def series_to_supervised(data, n_in=1, n_out=1, dropnan=True):\n",
    "    n_vars = 1 if type(data) is list else data.shape[1]\n",
    "    df = pd.DataFrame(data)\n",
    "    cols = list()\n",
    "    # input sequence (t-n, ... t-1)\n",
    "    for i in range(n_in, 0, -1):\n",
    "        cols.append(df.shift(i))\n",
    "    # forecast sequence (t, t+1, ... t+n)\n",
    "    for i in range(0, n_out):\n",
    "        cols.append(df.shift(-i))\n",
    "    agg = pd.concat(cols, axis=1)\n",
    "\n",
    "    if dropnan:\n",
    "        agg.dropna(inplace=True)\n",
    "    return agg.values\n",
    "\n",
    "def train_test_split(data, n_test):\n",
    "    return data[:-n_test, :], data[-n_test:, :]\n",
    " \n",
    "# fit an xgboost model and make a one step prediction\n",
    "def xgboost_forecast(train, testX):\n",
    "    train = np.asarray(train)\n",
    "    trainX, trainy = train[:, :-1], train[:, -1]\n",
    "    # fit model\n",
    "    model = XGBRegressor(booster='gbtree',objective='reg:squarederror', n_estimators=1000, learning_rate=0.3, alpha=0.1,reg_lambda=0.1,max_depth=25)\n",
    "    model.fit(trainX, trainy)\n",
    "    score = model.score(trainX, trainy)   \n",
    "    #print(\"Training score: \", score) \n",
    "    # make a one-step prediction\n",
    "    yhat = model.predict(np.asarray([testX]))\n",
    "    return yhat[0], score# walk-forward validation for univariate data\n",
    "\n",
    "def walk_forward_validation(data, n_test):\n",
    "    predictions = list()\n",
    "    # split dataset\n",
    "    train, test = train_test_split(data, n_test)\n",
    "    # seed history with training dataset\n",
    "    history = [x for x in train]\n",
    "    # step over each time-step in the test set\n",
    "    for i in range(len(test)):\n",
    "        # split test row into input and output columns\n",
    "        testX, testy = test[i, :-1], test[i, -1]\n",
    "        # fit model on history and make a prediction\n",
    "        yhat, score = xgboost_forecast(history, testX)\n",
    "        # store forecast in list of predictions\n",
    "        predictions.append(yhat)\n",
    "        # add actual observation to history for the next loop\n",
    "        history.append(test[i])\n",
    "        print('>expected=%.1f, predicted=%.1f' % (testy, yhat))\n",
    "    \n",
    "    # estimate prediction error\n",
    "    error = mean_squared_error(test[:, -1], predictions, squared = False)\n",
    "    return error, test[:, -1], predictions, score"
   ]
  },
  {
   "cell_type": "code",
   "execution_count": 289,
   "metadata": {},
   "outputs": [
    {
     "name": "stdout",
     "output_type": "stream",
     "text": [
      ">expected=49.1, predicted=47.8\n",
      ">expected=50.3, predicted=48.3\n",
      ">expected=52.6, predicted=49.1\n",
      ">expected=52.4, predicted=50.8\n",
      ">expected=54.2, predicted=50.4\n",
      ">expected=58.6, predicted=54.5\n",
      ">expected=62.4, predicted=61.8\n",
      ">expected=66.3, predicted=69.5\n",
      ">expected=68.3, predicted=72.1\n",
      ">expected=83.8, predicted=66.6\n",
      ">expected=89.2, predicted=88.5\n",
      ">expected=80.2, predicted=91.1\n",
      ">expected=86.5, predicted=90.3\n",
      ">expected=83.6, predicted=90.9\n",
      ">expected=79.1, predicted=89.1\n",
      ">expected=78.9, predicted=80.8\n",
      ">expected=74.4, predicted=78.1\n",
      ">expected=79.2, predicted=74.2\n",
      ">expected=81.7, predicted=78.6\n",
      ">expected=87.8, predicted=81.0\n",
      ">expected=92.3, predicted=89.0\n",
      ">expected=91.4, predicted=91.3\n",
      ">expected=91.4, predicted=88.0\n",
      ">expected=95.5, predicted=91.0\n",
      ">expected=97.5, predicted=98.3\n",
      ">expected=92.7, predicted=98.2\n",
      ">expected=89.5, predicted=90.9\n",
      ">expected=92.3, predicted=81.1\n",
      ">expected=101.9, predicted=91.4\n",
      ">expected=103.9, predicted=113.5\n",
      ">expected=106.0, predicted=112.0\n",
      ">expected=98.5, predicted=110.3\n",
      ">expected=102.1, predicted=94.9\n",
      ">expected=100.3, predicted=102.2\n",
      ">expected=91.6, predicted=99.8\n",
      ">expected=95.4, predicted=88.9\n",
      ">expected=91.3, predicted=97.3\n",
      ">expected=84.2, predicted=92.7\n",
      ">expected=78.8, predicted=84.5\n",
      ">expected=72.5, predicted=75.8\n",
      ">expected=68.9, predicted=73.9\n",
      ">expected=62.9, predicted=68.2\n",
      ">expected=65.8, predicted=60.2\n",
      ">expected=60.4, predicted=62.6\n",
      ">expected=61.4, predicted=63.0\n",
      ">expected=67.4, predicted=63.7\n",
      ">expected=73.6, predicted=63.2\n",
      ">expected=76.0, predicted=78.4\n",
      ">expected=82.1, predicted=76.0\n",
      ">expected=80.0, predicted=81.4\n",
      ">expected=67.9, predicted=84.1\n",
      ">expected=56.6, predicted=71.4\n",
      ">expected=57.4, predicted=54.6\n",
      ">expected=56.8, predicted=57.2\n",
      ">expected=56.6, predicted=56.3\n",
      "Training score:  0.9999993830112677\n"
     ]
    }
   ],
   "source": [
    "import warnings\n",
    "warnings.filterwarnings(\"ignore\")\n",
    "# load the dataset\n",
    "series = df\n",
    "values = series.values\n",
    "data = series_to_supervised(values, n_in=16)\n",
    "RMSE, y, yhat, score = walk_forward_validation(data, 55)\n",
    "print(\"Training score: \", score) "
   ]
  },
  {
   "cell_type": "code",
   "execution_count": 290,
   "metadata": {},
   "outputs": [
    {
     "name": "stdout",
     "output_type": "stream",
     "text": [
      "RMSE: 6.604\n",
      "R^2 score = 0.83\n"
     ]
    }
   ],
   "source": [
    "import sklearn.metrics as sm\n",
    "print('RMSE: %.3f' % RMSE)\n",
    "print(\"R^2 score =\", round(sm.r2_score(y, yhat), 2))\n",
    "# if R^2 is nearly 1, it's the best case."
   ]
  },
  {
   "cell_type": "code",
   "execution_count": 291,
   "metadata": {},
   "outputs": [
    {
     "data": {
      "image/png": "[encoded data removed]",
      "text/plain": [
       "<Figure size 432x288 with 1 Axes>"
      ]
     },
     "metadata": {
      "needs_background": "light"
     },
     "output_type": "display_data"
    }
   ],
   "source": [
    "# plot expected vs predicted\n",
    "pyplot.plot(y, label='Expected')\n",
    "pyplot.plot(yhat, label='Predicted')\n",
    "pyplot.legend()\n",
    "pyplot.show()"
   ]
  }
 ],
 "metadata": {
  "kernelspec": {
   "display_name": "Python 3",
   "language": "python",
   "name": "python3"
  },
  "language_info": {
   "codemirror_mode": {
    "name": "ipython",
    "version": 3
   },
   "file_extension": ".py",
   "mimetype": "text/x-python",
   "name": "python",
   "nbconvert_exporter": "python",
   "pygments_lexer": "ipython3",
   "version": "3.7.9"
  }
 },
 "nbformat": 4,
 "nbformat_minor": 4
}